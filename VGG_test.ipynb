{
 "cells": [
  {
   "cell_type": "code",
   "execution_count": null,
   "id": "dc6a8894-7a71-4c4d-98ce-7fd126a5d6a5",
   "metadata": {
    "tags": []
   },
   "outputs": [],
   "source": [
    "import torch\n",
    "import torch.nn as nn\n",
    "import torchvision.models as models\n",
    "from torchvision import transforms\n",
    "from torch.utils.data import DataLoader, Dataset, random_split\n",
    "from PIL import Image\n",
    "import os"
   ]
  },
  {
   "cell_type": "code",
   "execution_count": null,
   "id": "bf27bafa-3008-4ba5-a7bf-05059a78fd15",
   "metadata": {
    "tags": []
   },
   "outputs": [],
   "source": [
    "path_train_plume = \"cleanr/train data/images/plume\"\n",
    "path_train_no_plume = \"cleanr/train data/images/no_plume\"\n",
    "path_test = \"cleanr/test data/images\""
   ]
  },
  {
   "cell_type": "code",
   "execution_count": null,
   "id": "83034856-5bfd-4c84-bbfa-6cce6964d433",
   "metadata": {
    "tags": []
   },
   "outputs": [],
   "source": [
    "# Define a transform for normalization\n",
    "transform = transforms.Compose([\n",
    "    transforms.ToTensor(),\n",
    "    transforms.Normalize(mean=[0.5], std=[0.5]),\n",
    "    transforms.RandomHorizontalFlip(),\n",
    "    transforms.RandomVerticalFlip(),\n",
    "    transforms.RandomRotation(degrees=15),\n",
    "])\n",
    "\n",
    "#\n",
    "# Define dataset class\n",
    "class PlumeDataset(Dataset):\n",
    "    def __init__(self, plume_dir, no_plume_dir, transform=None):\n",
    "        self.plume_images = [\n",
    "            os.path.join(plume_dir, img) for img in os.listdir(plume_dir)\n",
    "        ]\n",
    "        self.no_plume_images = [\n",
    "            os.path.join(no_plume_dir, img) for img in os.listdir(no_plume_dir)\n",
    "        ]\n",
    "        self.images = self.plume_images + self.no_plume_images\n",
    "        self.targets = [1] * len(self.plume_images) + [0] * len(self.no_plume_images)\n",
    "        self.transform = transform\n",
    "\n",
    "    def __len__(self):\n",
    "        return len(self.images)\n",
    "\n",
    "    def __getitem__(self, idx):\n",
    "        image = Image.open(self.images[idx]).convert(\"L\")\n",
    "        target = self.targets[idx]\n",
    "        if self.transform:\n",
    "            image = self.transform(image)\n",
    "        return image, target\n",
    "\n",
    "\n",
    "# Create datasets for both \"plume\" and \"no plume\" classes\n",
    "dataset = PlumeDataset(path_train_plume, path_train_no_plume, transform=transform)\n",
    "\n",
    "# Split the combined dataset into training and validation sets\n",
    "train_size = int(0.8 * len(dataset))\n",
    "val_size = len(dataset) - train_size\n",
    "train_dataset, val_dataset = random_split(dataset, [train_size, val_size])\n",
    "\n",
    "# Create data loaders\n",
    "batch_size = 32\n",
    "train_loader = DataLoader(train_dataset, batch_size=batch_size, shuffle=True)\n",
    "val_loader = DataLoader(val_dataset, batch_size=batch_size)\n",
    "\n",
    "# Print the number of samples in each class\n",
    "print(f\"Number of rows in dataset: {len(dataset)}\")"
   ]
  },
  {
   "cell_type": "code",
   "execution_count": null,
   "id": "629da52a-c5b6-42ed-b01c-17f06ff3d73c",
   "metadata": {
    "tags": []
   },
   "outputs": [],
   "source": [
    "vgg = models.vgg16(pretrained=True)  # You can choose different VGG variants (e.g., vgg19)\n",
    "vgg.features[0] = nn.Conv2d(1, 64, kernel_size=3, padding=1)\n",
    "# Modify the final fully connected layer for your task\n",
    "vgg.classifier[6] = nn.Linear(4096, 2)  # Replace the last fully connected layer"
   ]
  },
  {
   "cell_type": "code",
   "execution_count": null,
   "id": "5c01fea5-3206-4706-af00-ed542e76d591",
   "metadata": {
    "tags": []
   },
   "outputs": [],
   "source": [
    "criterion = nn.CrossEntropyLoss()\n",
    "optimizer = torch.optim.Adam(vgg.parameters(), lr=0.001)\n",
    "\n",
    "# Training loop\n",
    "num_epochs = 15\n",
    "for epoch in range(num_epochs):\n",
    "    vgg.train()\n",
    "    running_loss = 0.0\n",
    "    for images, labels in train_loader:\n",
    "        optimizer.zero_grad()\n",
    "        outputs = vgg(images)\n",
    "        loss = criterion(outputs, labels)\n",
    "        loss.backward()\n",
    "        optimizer.step()\n",
    "        running_loss += loss.item()\n",
    "\n",
    "    # Print the average loss for this epoch\n",
    "    print(f'Epoch {epoch + 1}/{num_epochs}, Loss: {running_loss / len(train_loader)}')\n",
    "\n",
    "# Evaluation\n",
    "vgg.eval()\n",
    "# Perform evaluation on a validation dataset or test dataset"
   ]
  },
  {
   "cell_type": "code",
   "execution_count": null,
   "id": "32872852-e772-46b6-9894-11a702dea298",
   "metadata": {
    "tags": []
   },
   "outputs": [],
   "source": [
    "# Assuming you have already trained the model and defined the evaluation dataset and data loader (val_loader)\n",
    "\n",
    "vgg.eval()  # Set the model to evaluation mode\n",
    "total_correct = 0\n",
    "total_samples = 0\n",
    "total_loss = 0.0\n",
    "\n",
    "with torch.no_grad():\n",
    "    for images, labels in val_loader:\n",
    "        outputs = model(images)\n",
    "        labels = labels.float().unsqueeze(1)\n",
    "        loss = criterion(outputs, labels)\n",
    "\n",
    "        # Calculate the binary classification accuracy\n",
    "        predicted = (outputs > 0.5).float()  # Assuming you're using a sigmoid activation\n",
    "        correct = (predicted == labels).sum().item()\n",
    "        total_correct += correct\n",
    "        total_samples += labels.size(0)\n",
    "        total_loss += loss.item()\n",
    "\n",
    "# Calculate accuracy and average loss\n",
    "accuracy = (total_correct / total_samples) * 100.0\n",
    "average_loss = total_loss / len(val_loader)\n",
    "\n",
    "print(f\"Validation Accuracy: {accuracy:.2f}%\")\n",
    "print(f\"Average Validation Loss: {average_loss:.4f}\")\n"
   ]
  },
  {
   "cell_type": "code",
   "execution_count": null,
   "id": "8e5aec4e-16d8-4039-9ff7-4baf679638ce",
   "metadata": {},
   "outputs": [],
   "source": []
  }
 ],
 "metadata": {
  "kernelspec": {
   "display_name": "Python 3 (ipykernel)",
   "language": "python",
   "name": "python3"
  },
  "language_info": {
   "codemirror_mode": {
    "name": "ipython",
    "version": 3
   },
   "file_extension": ".py",
   "mimetype": "text/x-python",
   "name": "python",
   "nbconvert_exporter": "python",
   "pygments_lexer": "ipython3",
   "version": "3.10.12"
  }
 },
 "nbformat": 4,
 "nbformat_minor": 5
}
